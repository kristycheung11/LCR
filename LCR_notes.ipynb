{
 "cells": [
  {
   "cell_type": "code",
   "execution_count": null,
   "metadata": {},
   "outputs": [],
   "source": [
    "import numpy as np\n",
    "import pandas as pd\n",
    "import matplotlib.pyplot as plt\n",
    "from sklearn.model_selection import GridSearchCV, train_test_split\n",
    "from sklearn.compose import make_column_transformer\n",
    "from sklearn.pipeline import make_pipeline\n",
    "from sklearn.preprocessing import StandardScaler\n",
    "from sklearn import set_config\n",
    "from sklearn.neighbors import KNeighborsRegressor\n",
    "from sklearn.metrics import mean_squared_error, r2_scor"
   ]
  },
  {
   "cell_type": "code",
   "execution_count": null,
   "metadata": {},
   "outputs": [],
   "source": [
    "# Plot\n",
    "plt.scatter(sacramento[\"sq__ft\"], sacramento['price'])\n",
    "\n",
    "# Add labels and legend\n",
    "plt.xlabel(\"House size (square feet)\")\n",
    "plt.ylabel('Price (USD)')\n",
    "plt.title('Scatter Plot of House size vs Price')\n",
    "plt.show()"
   ]
  },
  {
   "cell_type": "code",
   "execution_count": null,
   "metadata": {},
   "outputs": [],
   "source": [
    "# Plot\n",
    "plt.scatter(small_sacramento[\"sq__ft\"], small_sacramento['price'])\n",
    "\n",
    "# Add a vertical line at 2,000 square feet\n",
    "plt.axvline(x=2000, color='red', linestyle='--', label='2000 sqft')\n",
    "\n",
    "# Add labels and legend\n",
    "plt.xlabel(\"House size (square feet)\")\n",
    "plt.ylabel('Price (USD)')\n",
    "plt.title('Scatter Plot of House size vs Price')\n",
    "\n",
    "plt.show()"
   ]
  },
  {
   "cell_type": "code",
   "execution_count": null,
   "metadata": {},
   "outputs": [],
   "source": [
    "# Generate a range of house sizes for prediction\n",
    "sizes = np.linspace(sacramento[\"sq__ft\"].min(), sacramento[\"sq__ft\"].max(), 100).reshape(-1, 1)\n",
    "\n",
    "# Predict house prices for these sizes using the best model from GridSearchCV\n",
    "predicted_prices = sacr_gridsearch.predict(sizes)\n",
    "\n",
    "# Plot the original data\n",
    "plt.scatter(sacramento[\"sq__ft\"], sacramento[\"price\"], label=\"Actual Prices\")\n",
    "\n",
    "# Plot the model predictions as a line\n",
    "plt.plot(sizes, predicted_prices, color='red', label=\"Model Predictions\")\n",
    "# Add labels and legend\n",
    "plt.xlabel(\"House size (square feet)\")\n",
    "plt.ylabel(\"Price (USD)\")\n",
    "plt.title(\"Scatter Plot of House Size vs Price with Model Predictions\")\n",
    "plt.legend()\n",
    "plt.show()"
   ]
  }
 ],
 "metadata": {
  "kernelspec": {
   "display_name": "dsi_participant",
   "language": "python",
   "name": "python3"
  },
  "language_info": {
   "name": "python",
   "version": "3.9.21"
  }
 },
 "nbformat": 4,
 "nbformat_minor": 2
}
